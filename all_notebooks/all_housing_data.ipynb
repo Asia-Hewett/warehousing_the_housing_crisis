{
 "cells": [
  {
   "cell_type": "code",
   "execution_count": 4,
   "metadata": {},
   "outputs": [],
   "source": [
    "import pandas as pd\n",
    "from sqlalchemy import create_engine\n",
    "import numpy as np\n",
    "import requests"
   ]
  },
  {
   "cell_type": "code",
   "execution_count": 5,
   "metadata": {},
   "outputs": [
    {
     "ename": "FileNotFoundError",
     "evalue": "[Errno 2] File single_family_homes.csv does not exist: 'single_family_homes.csv'",
     "output_type": "error",
     "traceback": [
      "\u001b[1;31m---------------------------------------------------------------------------\u001b[0m",
      "\u001b[1;31mFileNotFoundError\u001b[0m                         Traceback (most recent call last)",
      "\u001b[1;32m<ipython-input-5-5e11845f8288>\u001b[0m in \u001b[0;36m<module>\u001b[1;34m\u001b[0m\n\u001b[1;32m----> 1\u001b[1;33m \u001b[0mcsv\u001b[0m \u001b[1;33m=\u001b[0m \u001b[0mpd\u001b[0m\u001b[1;33m.\u001b[0m\u001b[0mread_csv\u001b[0m\u001b[1;33m(\u001b[0m\u001b[1;34m'single_family_homes.csv'\u001b[0m\u001b[1;33m)\u001b[0m\u001b[1;33m\u001b[0m\u001b[1;33m\u001b[0m\u001b[0m\n\u001b[0m\u001b[0;32m      2\u001b[0m \u001b[0mcsv\u001b[0m\u001b[1;33m.\u001b[0m\u001b[0mhead\u001b[0m\u001b[1;33m(\u001b[0m\u001b[1;33m)\u001b[0m\u001b[1;33m\u001b[0m\u001b[1;33m\u001b[0m\u001b[0m\n",
      "\u001b[1;32m~\\anaconda3\\lib\\site-packages\\pandas\\io\\parsers.py\u001b[0m in \u001b[0;36mparser_f\u001b[1;34m(filepath_or_buffer, sep, delimiter, header, names, index_col, usecols, squeeze, prefix, mangle_dupe_cols, dtype, engine, converters, true_values, false_values, skipinitialspace, skiprows, skipfooter, nrows, na_values, keep_default_na, na_filter, verbose, skip_blank_lines, parse_dates, infer_datetime_format, keep_date_col, date_parser, dayfirst, cache_dates, iterator, chunksize, compression, thousands, decimal, lineterminator, quotechar, quoting, doublequote, escapechar, comment, encoding, dialect, error_bad_lines, warn_bad_lines, delim_whitespace, low_memory, memory_map, float_precision)\u001b[0m\n\u001b[0;32m    674\u001b[0m         )\n\u001b[0;32m    675\u001b[0m \u001b[1;33m\u001b[0m\u001b[0m\n\u001b[1;32m--> 676\u001b[1;33m         \u001b[1;32mreturn\u001b[0m \u001b[0m_read\u001b[0m\u001b[1;33m(\u001b[0m\u001b[0mfilepath_or_buffer\u001b[0m\u001b[1;33m,\u001b[0m \u001b[0mkwds\u001b[0m\u001b[1;33m)\u001b[0m\u001b[1;33m\u001b[0m\u001b[1;33m\u001b[0m\u001b[0m\n\u001b[0m\u001b[0;32m    677\u001b[0m \u001b[1;33m\u001b[0m\u001b[0m\n\u001b[0;32m    678\u001b[0m     \u001b[0mparser_f\u001b[0m\u001b[1;33m.\u001b[0m\u001b[0m__name__\u001b[0m \u001b[1;33m=\u001b[0m \u001b[0mname\u001b[0m\u001b[1;33m\u001b[0m\u001b[1;33m\u001b[0m\u001b[0m\n",
      "\u001b[1;32m~\\anaconda3\\lib\\site-packages\\pandas\\io\\parsers.py\u001b[0m in \u001b[0;36m_read\u001b[1;34m(filepath_or_buffer, kwds)\u001b[0m\n\u001b[0;32m    446\u001b[0m \u001b[1;33m\u001b[0m\u001b[0m\n\u001b[0;32m    447\u001b[0m     \u001b[1;31m# Create the parser.\u001b[0m\u001b[1;33m\u001b[0m\u001b[1;33m\u001b[0m\u001b[1;33m\u001b[0m\u001b[0m\n\u001b[1;32m--> 448\u001b[1;33m     \u001b[0mparser\u001b[0m \u001b[1;33m=\u001b[0m \u001b[0mTextFileReader\u001b[0m\u001b[1;33m(\u001b[0m\u001b[0mfp_or_buf\u001b[0m\u001b[1;33m,\u001b[0m \u001b[1;33m**\u001b[0m\u001b[0mkwds\u001b[0m\u001b[1;33m)\u001b[0m\u001b[1;33m\u001b[0m\u001b[1;33m\u001b[0m\u001b[0m\n\u001b[0m\u001b[0;32m    449\u001b[0m \u001b[1;33m\u001b[0m\u001b[0m\n\u001b[0;32m    450\u001b[0m     \u001b[1;32mif\u001b[0m \u001b[0mchunksize\u001b[0m \u001b[1;32mor\u001b[0m \u001b[0miterator\u001b[0m\u001b[1;33m:\u001b[0m\u001b[1;33m\u001b[0m\u001b[1;33m\u001b[0m\u001b[0m\n",
      "\u001b[1;32m~\\anaconda3\\lib\\site-packages\\pandas\\io\\parsers.py\u001b[0m in \u001b[0;36m__init__\u001b[1;34m(self, f, engine, **kwds)\u001b[0m\n\u001b[0;32m    878\u001b[0m             \u001b[0mself\u001b[0m\u001b[1;33m.\u001b[0m\u001b[0moptions\u001b[0m\u001b[1;33m[\u001b[0m\u001b[1;34m\"has_index_names\"\u001b[0m\u001b[1;33m]\u001b[0m \u001b[1;33m=\u001b[0m \u001b[0mkwds\u001b[0m\u001b[1;33m[\u001b[0m\u001b[1;34m\"has_index_names\"\u001b[0m\u001b[1;33m]\u001b[0m\u001b[1;33m\u001b[0m\u001b[1;33m\u001b[0m\u001b[0m\n\u001b[0;32m    879\u001b[0m \u001b[1;33m\u001b[0m\u001b[0m\n\u001b[1;32m--> 880\u001b[1;33m         \u001b[0mself\u001b[0m\u001b[1;33m.\u001b[0m\u001b[0m_make_engine\u001b[0m\u001b[1;33m(\u001b[0m\u001b[0mself\u001b[0m\u001b[1;33m.\u001b[0m\u001b[0mengine\u001b[0m\u001b[1;33m)\u001b[0m\u001b[1;33m\u001b[0m\u001b[1;33m\u001b[0m\u001b[0m\n\u001b[0m\u001b[0;32m    881\u001b[0m \u001b[1;33m\u001b[0m\u001b[0m\n\u001b[0;32m    882\u001b[0m     \u001b[1;32mdef\u001b[0m \u001b[0mclose\u001b[0m\u001b[1;33m(\u001b[0m\u001b[0mself\u001b[0m\u001b[1;33m)\u001b[0m\u001b[1;33m:\u001b[0m\u001b[1;33m\u001b[0m\u001b[1;33m\u001b[0m\u001b[0m\n",
      "\u001b[1;32m~\\anaconda3\\lib\\site-packages\\pandas\\io\\parsers.py\u001b[0m in \u001b[0;36m_make_engine\u001b[1;34m(self, engine)\u001b[0m\n\u001b[0;32m   1112\u001b[0m     \u001b[1;32mdef\u001b[0m \u001b[0m_make_engine\u001b[0m\u001b[1;33m(\u001b[0m\u001b[0mself\u001b[0m\u001b[1;33m,\u001b[0m \u001b[0mengine\u001b[0m\u001b[1;33m=\u001b[0m\u001b[1;34m\"c\"\u001b[0m\u001b[1;33m)\u001b[0m\u001b[1;33m:\u001b[0m\u001b[1;33m\u001b[0m\u001b[1;33m\u001b[0m\u001b[0m\n\u001b[0;32m   1113\u001b[0m         \u001b[1;32mif\u001b[0m \u001b[0mengine\u001b[0m \u001b[1;33m==\u001b[0m \u001b[1;34m\"c\"\u001b[0m\u001b[1;33m:\u001b[0m\u001b[1;33m\u001b[0m\u001b[1;33m\u001b[0m\u001b[0m\n\u001b[1;32m-> 1114\u001b[1;33m             \u001b[0mself\u001b[0m\u001b[1;33m.\u001b[0m\u001b[0m_engine\u001b[0m \u001b[1;33m=\u001b[0m \u001b[0mCParserWrapper\u001b[0m\u001b[1;33m(\u001b[0m\u001b[0mself\u001b[0m\u001b[1;33m.\u001b[0m\u001b[0mf\u001b[0m\u001b[1;33m,\u001b[0m \u001b[1;33m**\u001b[0m\u001b[0mself\u001b[0m\u001b[1;33m.\u001b[0m\u001b[0moptions\u001b[0m\u001b[1;33m)\u001b[0m\u001b[1;33m\u001b[0m\u001b[1;33m\u001b[0m\u001b[0m\n\u001b[0m\u001b[0;32m   1115\u001b[0m         \u001b[1;32melse\u001b[0m\u001b[1;33m:\u001b[0m\u001b[1;33m\u001b[0m\u001b[1;33m\u001b[0m\u001b[0m\n\u001b[0;32m   1116\u001b[0m             \u001b[1;32mif\u001b[0m \u001b[0mengine\u001b[0m \u001b[1;33m==\u001b[0m \u001b[1;34m\"python\"\u001b[0m\u001b[1;33m:\u001b[0m\u001b[1;33m\u001b[0m\u001b[1;33m\u001b[0m\u001b[0m\n",
      "\u001b[1;32m~\\anaconda3\\lib\\site-packages\\pandas\\io\\parsers.py\u001b[0m in \u001b[0;36m__init__\u001b[1;34m(self, src, **kwds)\u001b[0m\n\u001b[0;32m   1889\u001b[0m         \u001b[0mkwds\u001b[0m\u001b[1;33m[\u001b[0m\u001b[1;34m\"usecols\"\u001b[0m\u001b[1;33m]\u001b[0m \u001b[1;33m=\u001b[0m \u001b[0mself\u001b[0m\u001b[1;33m.\u001b[0m\u001b[0musecols\u001b[0m\u001b[1;33m\u001b[0m\u001b[1;33m\u001b[0m\u001b[0m\n\u001b[0;32m   1890\u001b[0m \u001b[1;33m\u001b[0m\u001b[0m\n\u001b[1;32m-> 1891\u001b[1;33m         \u001b[0mself\u001b[0m\u001b[1;33m.\u001b[0m\u001b[0m_reader\u001b[0m \u001b[1;33m=\u001b[0m \u001b[0mparsers\u001b[0m\u001b[1;33m.\u001b[0m\u001b[0mTextReader\u001b[0m\u001b[1;33m(\u001b[0m\u001b[0msrc\u001b[0m\u001b[1;33m,\u001b[0m \u001b[1;33m**\u001b[0m\u001b[0mkwds\u001b[0m\u001b[1;33m)\u001b[0m\u001b[1;33m\u001b[0m\u001b[1;33m\u001b[0m\u001b[0m\n\u001b[0m\u001b[0;32m   1892\u001b[0m         \u001b[0mself\u001b[0m\u001b[1;33m.\u001b[0m\u001b[0munnamed_cols\u001b[0m \u001b[1;33m=\u001b[0m \u001b[0mself\u001b[0m\u001b[1;33m.\u001b[0m\u001b[0m_reader\u001b[0m\u001b[1;33m.\u001b[0m\u001b[0munnamed_cols\u001b[0m\u001b[1;33m\u001b[0m\u001b[1;33m\u001b[0m\u001b[0m\n\u001b[0;32m   1893\u001b[0m \u001b[1;33m\u001b[0m\u001b[0m\n",
      "\u001b[1;32mpandas\\_libs\\parsers.pyx\u001b[0m in \u001b[0;36mpandas._libs.parsers.TextReader.__cinit__\u001b[1;34m()\u001b[0m\n",
      "\u001b[1;32mpandas\\_libs\\parsers.pyx\u001b[0m in \u001b[0;36mpandas._libs.parsers.TextReader._setup_parser_source\u001b[1;34m()\u001b[0m\n",
      "\u001b[1;31mFileNotFoundError\u001b[0m: [Errno 2] File single_family_homes.csv does not exist: 'single_family_homes.csv'"
     ]
    }
   ],
   "source": [
    "csv = pd.read_csv('single_family_homes.csv')\n",
    "csv.head()"
   ]
  },
  {
   "cell_type": "code",
   "execution_count": null,
   "metadata": {},
   "outputs": [],
   "source": [
    "col_list = ['StateName', '6/30/2006','6/30/2007', '6/30/2008', '6/30/2009', '6/30/2010', '6/30/2011', '6/30/2012', '6/30/2013', '6/30/2014', '6/30/2015', '6/30/2016', '6/30/2017', '6/30/2018', '6/30/2019', '6/30/2020']\n",
    "home_sales = csv[col_list]\n",
    "home_sales.head()"
   ]
  },
  {
   "cell_type": "code",
   "execution_count": null,
   "metadata": {
    "scrolled": true
   },
   "outputs": [],
   "source": [
    "median_sfh = pd.DataFrame(home_sales)\n",
    "median_sfh.head()"
   ]
  },
  {
   "cell_type": "code",
   "execution_count": null,
   "metadata": {},
   "outputs": [],
   "source": [
    "median_sfh.to_csv('median_sales_prices', index=False)"
   ]
  },
  {
   "cell_type": "code",
   "execution_count": null,
   "metadata": {},
   "outputs": [],
   "source": [
    "df = pd.read_csv('median_sales_prices')\n",
    "df.head()"
   ]
  },
  {
   "cell_type": "code",
   "execution_count": null,
   "metadata": {},
   "outputs": [],
   "source": [
    "years = ['State',\n",
    " 2006,\n",
    " 2007,\n",
    " 2008,\n",
    " 2009,\n",
    " 2010,\n",
    " 2011,\n",
    " 2012,\n",
    " 2013,\n",
    " 2014,\n",
    " 2015,\n",
    " 2016,\n",
    " 2017,\n",
    " 2018,\n",
    " 2019,\n",
    " 2020]\n",
    "finished_df = df.set_axis([years], axis=1, inplace=False)\n",
    "finished_df.head()"
   ]
  },
  {
   "cell_type": "code",
   "execution_count": null,
   "metadata": {},
   "outputs": [],
   "source": [
    "avg_home_cost = finished_df\n",
    "avg_home_cost.head()"
   ]
  },
  {
   "cell_type": "code",
   "execution_count": null,
   "metadata": {},
   "outputs": [],
   "source": [
    "finished_avg_home_cost = pd.melt(avg_home_cost, col_level=0, id_vars=\"State\", var_name=\"Year\", value_name=\"avg_sale_price\")\n",
    "finished_avg_home_cost"
   ]
  },
  {
   "cell_type": "code",
   "execution_count": null,
   "metadata": {},
   "outputs": [],
   "source": [
    "#read csv into pandas\n",
    "homeless_pop = pd.read_csv(\"homelessness.csv\")\n",
    "\n",
    "homeless_pop"
   ]
  },
  {
   "cell_type": "code",
   "execution_count": null,
   "metadata": {},
   "outputs": [],
   "source": []
  },
  {
   "cell_type": "code",
   "execution_count": null,
   "metadata": {},
   "outputs": [],
   "source": [
    "# #identify the data that is FL only\n",
    "# fl_homeless_pop = homeless_pop.loc[homeless_pop[\"State\"] == \"FL\"]\n",
    "# fl_homeless_pop\n",
    "\n",
    "#take commas out of the count column\n",
    "homeless_pop[\"Count\"] = homeless_pop[\"Count\"].str.replace(\",\",\"\")\n",
    "homeless_pop[\"Count\"] = pd.to_numeric(homeless_pop[\"Count\"])"
   ]
  },
  {
   "cell_type": "code",
   "execution_count": null,
   "metadata": {},
   "outputs": [],
   "source": [
    "homeless_pop[\"Measures\"] = homeless_pop[\"Measures\"].str.replace(\" \",\"_\")\n",
    "homeless_pop"
   ]
  },
  {
   "cell_type": "code",
   "execution_count": null,
   "metadata": {},
   "outputs": [],
   "source": [
    "#pivot the table so the measures are the headers instead of rows\n",
    "homeless_new = homeless_pop.pivot_table(index=[\"Year\", \"State\", \"CoC Number\", \"CoC Name\"],values = [\"Count\"], columns=[\"Measures\"], aggfunc=np.max)\n",
    "homeless_new.head()"
   ]
  },
  {
   "cell_type": "code",
   "execution_count": null,
   "metadata": {},
   "outputs": [],
   "source": [
    "#reset df.columns \n",
    "homeless_new.columns = homeless_new.columns.get_level_values(1)"
   ]
  },
  {
   "cell_type": "code",
   "execution_count": null,
   "metadata": {},
   "outputs": [],
   "source": [
    "homeless_new.columns[0]"
   ]
  },
  {
   "cell_type": "code",
   "execution_count": null,
   "metadata": {},
   "outputs": [],
   "source": [
    "homeless_new.columns"
   ]
  },
  {
   "cell_type": "code",
   "execution_count": null,
   "metadata": {},
   "outputs": [],
   "source": [
    "homeless_new = homeless_new.reset_index()\n",
    "homeless_new"
   ]
  },
  {
   "cell_type": "code",
   "execution_count": null,
   "metadata": {},
   "outputs": [],
   "source": [
    "homeless_new.columns\n",
    "columns = [col for col in homeless_new.columns if col not in ['level_0', 'index']]\n",
    "homeless_new = homeless_new[columns]"
   ]
  },
  {
   "cell_type": "code",
   "execution_count": null,
   "metadata": {},
   "outputs": [],
   "source": [
    "homeless_new = homeless_new.rename(columns = {\n",
    "    'Year': 'year',\n",
    "    'State': 'state',\n",
    "    'CoC Number': 'CoC_number',\n",
    "    'CoC Name': 'CoC_name'\n",
    "})\n",
    "\n",
    "homeless_new['year'] = pd.DatetimeIndex(homeless_new['year']).year"
   ]
  },
  {
   "cell_type": "code",
   "execution_count": null,
   "metadata": {},
   "outputs": [],
   "source": [
    "csv = pd.read_csv('median_income_data.csv')\n",
    "csv.head()"
   ]
  },
  {
   "cell_type": "code",
   "execution_count": null,
   "metadata": {},
   "outputs": [],
   "source": [
    "flipped_csv = csv.T.reset_index(); \n",
    "flipped_csv.head()"
   ]
  },
  {
   "cell_type": "code",
   "execution_count": null,
   "metadata": {},
   "outputs": [],
   "source": [
    "flipped_csv.columns = flipped_csv.iloc[0]\n",
    "flipped_csv.head()"
   ]
  },
  {
   "cell_type": "code",
   "execution_count": null,
   "metadata": {},
   "outputs": [],
   "source": [
    "# It was literally faster and easier to type out 34 years worth of numerals than to fight with Pandas to convert and reconvert the array to usable data\n",
    "years = [1984, 1985, 1986, 1987, 1988, 1989, 1990, 1991, 1992, 1993, 1994, 1995, 1996, 1997, 1998, 1999, 2000, 2001, 2002, 2003, 2004, 2005, 2006, 2007, 2008, 2009, 2010, 2011, 2012, 2013, 2014, 2015, 2016, 2017, 2018, 2019, 2020]\n",
    "# pd.DataFrame(years)\n",
    "\n",
    "years.reverse()"
   ]
  },
  {
   "cell_type": "code",
   "execution_count": null,
   "metadata": {},
   "outputs": [],
   "source": [
    "# Here we're going to narrow the data set down to states and national averages\n",
    "getting_states_data = flipped_csv.dropna(axis=1)\n",
    "getting_states_data.head()"
   ]
  },
  {
   "cell_type": "code",
   "execution_count": null,
   "metadata": {},
   "outputs": [],
   "source": [
    "# I noticed we have duplicated states, lets get rid of those...\n",
    "narrowed_data = df = getting_states_data.loc[:,~getting_states_data.columns.duplicated()]\n",
    "narrowed_data.head()"
   ]
  },
  {
   "cell_type": "code",
   "execution_count": null,
   "metadata": {},
   "outputs": [],
   "source": [
    "# Getting rid of the first column with the weird name\n",
    "mean_state_data = narrowed_data.drop(columns = 'Table with row headers in column A and column headers in rows 5 and 6, and 60 and 61')\n",
    "mean_state_data.head()"
   ]
  },
  {
   "cell_type": "code",
   "execution_count": null,
   "metadata": {},
   "outputs": [],
   "source": [
    "# We're going to flip the columns again and make the states the index\n",
    "making_missy_elliot_proud = mean_state_data.T \n",
    "making_missy_elliot_proud.head()"
   ]
  },
  {
   "cell_type": "code",
   "execution_count": null,
   "metadata": {},
   "outputs": [],
   "source": [
    "# Cool, now I need to drop the first column, then every other column, and then use \"years\" as the column headers\n",
    "dropping_first_column = making_missy_elliot_proud.drop(axis=1, columns=0)\n",
    "dropping_first_column\n",
    "\n",
    "# Saving for now -- Will need to see how many columns need to go\n",
    "dropping_first_column.to_csv('almost_done_all_states', index=True)"
   ]
  },
  {
   "cell_type": "code",
   "execution_count": null,
   "metadata": {},
   "outputs": [],
   "source": [
    "# We needed to drop it down to 37 columns because we have 37 years of data\n",
    "narrowed_columns = dropping_first_column[dropping_first_column.columns[::2]]\n",
    "narrowed_columns.head()"
   ]
  },
  {
   "cell_type": "code",
   "execution_count": null,
   "metadata": {},
   "outputs": [],
   "source": [
    "# We're almost done here, I should be able to rename the columns using the \"years\" list we created and reversed earlier\n",
    "df2 = narrowed_columns.set_axis([years], axis=1, inplace=False)\n",
    "df2.head()"
   ]
  },
  {
   "cell_type": "code",
   "execution_count": null,
   "metadata": {},
   "outputs": [],
   "source": [
    "df2 = df2.reset_index()\n",
    "df2.head()"
   ]
  },
  {
   "cell_type": "code",
   "execution_count": null,
   "metadata": {},
   "outputs": [],
   "source": [
    "removing_commas_df = df2.replace(',','', regex=True)\n",
    "avg_income_data = removing_commas_df\n",
    "avg_income_data.head()"
   ]
  },
  {
   "cell_type": "code",
   "execution_count": null,
   "metadata": {},
   "outputs": [],
   "source": [
    "hopefully_fixed = avg_income_data.rename({0: \"State\"}, axis=1)\n",
    "removing_parenthesis_df = pd.DataFrame(hopefully_fixed)\n",
    "removing_parenthesis_df.head()"
   ]
  },
  {
   "cell_type": "code",
   "execution_count": null,
   "metadata": {},
   "outputs": [],
   "source": [
    "df_avg_income = pd.melt(removing_parenthesis_df, col_level=0, id_vars=\"State\", var_name=\"Year\", value_name=\"average_incomes\")\n"
   ]
  },
  {
   "cell_type": "code",
   "execution_count": null,
   "metadata": {},
   "outputs": [],
   "source": [
    "df_avg_income.dtypes"
   ]
  },
  {
   "cell_type": "code",
   "execution_count": null,
   "metadata": {},
   "outputs": [],
   "source": [
    "#create the global df to hold info for all years' tables (columns need to be named the same as the data pulled)\n",
    "us_rent = pd.DataFrame(columns = ['0 BR', '1 BR', '2 BR', '3 BR', '4 BR', 'Est. Population', 'year']) \n",
    "#create a list that has all of the years that I want to extract\n",
    "years = ['2006', '2007', '2008', '2009', '2010', '2011', '2012', '2013', '2014', '2015', '2016', '2017', '2018', '2019', '2020']\n",
    "header = {\n",
    "\"User-Agent\": \"Mozilla/5.0 (X11; Linux x86_64) AppleWebKit/537.36 (KHTML, like Gecko) Chrome/50.0.2661.75 Safari/537.36\",\n",
    "\"X-Requested-With\": \"XMLHttpRequest\"\n",
    "}\n",
    "for year in years:\n",
    "    url = f'https://www.rentdata.org/states/{year}'\n",
    "    #hit the url/API and store info in a temporary df\n",
    "    r = requests.get(url, headers=header)\n",
    "    #temporary data frame created from the html\n",
    "    temp_dfs = pd.read_html(r.text)[0]\n",
    "    #taking column named years and appending all info from years to it\n",
    "    temp_dfs['year'] = year\n",
    "    #temp df is appended to global df\n",
    "    us_rent = pd.concat([us_rent, temp_dfs], ignore_index= True)\n",
    "#iterate"
   ]
  },
  {
   "cell_type": "code",
   "execution_count": null,
   "metadata": {},
   "outputs": [],
   "source": [
    "us_rent"
   ]
  },
  {
   "cell_type": "code",
   "execution_count": null,
   "metadata": {},
   "outputs": [],
   "source": [
    "rental_data = us_rent.rename(columns={'0 BR':'0_BR','1 BR':'1_BR','2 BR':'2_BR','3 BR':'3_BR','4 BR':'4_BR','Est. Population':'est_pop','Year':'year', 'State':'state'})\n",
    "rental_data"
   ]
  },
  {
   "cell_type": "code",
   "execution_count": null,
   "metadata": {},
   "outputs": [],
   "source": [
    "# remove $$$$$ and ,,,,,,,\n",
    "\n",
    "rental_data_clean = rental_data"
   ]
  },
  {
   "cell_type": "code",
   "execution_count": null,
   "metadata": {},
   "outputs": [],
   "source": [
    "rental_data_clean['0_BR'] = rental_data_clean['0_BR'].str.replace('$' , \"\").str.replace(\",\" , \"\")\n",
    "rental_data_clean['1_BR'] = rental_data_clean['1_BR'].str.replace('$' , \"\").str.replace(\",\" , \"\")\n",
    "rental_data_clean['2_BR'] = rental_data_clean['2_BR'].str.replace('$' , \"\").str.replace(\",\" , \"\")\n",
    "rental_data_clean['3_BR'] = rental_data_clean['3_BR'].str.replace('$' , \"\").str.replace(\",\" , \"\")\n",
    "rental_data_clean['4_BR'] = rental_data_clean['4_BR'].str.replace('$' , \"\").str.replace(\",\" , \"\")\n",
    "rental_data_clean"
   ]
  },
  {
   "cell_type": "code",
   "execution_count": null,
   "metadata": {},
   "outputs": [],
   "source": [
    "#convert additional columns to integer\n",
    "rental_data_clean['0_BR'] = rental_data_clean['0_BR'].astype(int)\n",
    "rental_data_clean['1_BR'] = rental_data_clean['1_BR'].astype(int)\n",
    "rental_data_clean['2_BR'] = rental_data_clean['2_BR'].astype(int)\n",
    "rental_data_clean['3_BR'] = rental_data_clean['3_BR'].astype(int)\n",
    "rental_data_clean['4_BR'] = rental_data_clean['4_BR'].astype(int)\n",
    "rental_data_clean['year'] = rental_data_clean['year'].astype(int)\n",
    "rental_data_clean['est_pop'] = rental_data_clean['est_pop'].astype(int)\n",
    "rental_data_clean['state'] = rental_data_clean['state'].astype(str)"
   ]
  },
  {
   "cell_type": "code",
   "execution_count": null,
   "metadata": {},
   "outputs": [],
   "source": [
    "# return just the state name in the column state\n",
    "rental_data_clean['state'] = rental_data_clean['state'].str.split('(').str[0]"
   ]
  },
  {
   "cell_type": "code",
   "execution_count": null,
   "metadata": {},
   "outputs": [],
   "source": [
    "# check to make sure that year is an integer\n",
    "rental_data_clean"
   ]
  },
  {
   "cell_type": "code",
   "execution_count": null,
   "metadata": {},
   "outputs": [],
   "source": [
    "# create empty column to hold average values\n",
    "rental_data_clean['avg_rent'] = \"\""
   ]
  },
  {
   "cell_type": "code",
   "execution_count": null,
   "metadata": {},
   "outputs": [],
   "source": [
    "# calculate average rent price\n",
    "rental_data_clean['avg_rent'] = rental_data_clean.iloc[:, 0:5].mean(axis=1)\n",
    "rental_data_clean"
   ]
  },
  {
   "cell_type": "code",
   "execution_count": null,
   "metadata": {},
   "outputs": [],
   "source": [
    "# create a dataframe of years because we need a primary key table (oops)\n",
    "year = rental_data_clean.drop(columns =['0_BR','1_BR','2_BR','3_BR','4_BR','est_pop','state'])\n",
    "\n",
    "year = year.drop_duplicates()"
   ]
  },
  {
   "cell_type": "code",
   "execution_count": null,
   "metadata": {},
   "outputs": [],
   "source": [
    "year"
   ]
  },
  {
   "cell_type": "code",
   "execution_count": null,
   "metadata": {},
   "outputs": [],
   "source": [
    "# Import csv file to create table with state names and abbreviations \n",
    "state_abbrev = pd.read_csv('state_abbrev.csv')"
   ]
  },
  {
   "cell_type": "code",
   "execution_count": null,
   "metadata": {},
   "outputs": [],
   "source": [
    "state_abbrev.dtypes"
   ]
  },
  {
   "cell_type": "code",
   "execution_count": null,
   "metadata": {},
   "outputs": [],
   "source": [
    "engine = create_engine(f\"sqlite:///housing_data.db\")"
   ]
  },
  {
   "cell_type": "code",
   "execution_count": null,
   "metadata": {},
   "outputs": [],
   "source": [
    "year.to_sql(name = 'year', con = engine, if_exists='replace', index=False)"
   ]
  },
  {
   "cell_type": "code",
   "execution_count": null,
   "metadata": {},
   "outputs": [],
   "source": [
    "rental_data_clean.to_sql(name = 'rental_pricing', con = engine, if_exists='replace', index=False)"
   ]
  },
  {
   "cell_type": "code",
   "execution_count": null,
   "metadata": {},
   "outputs": [],
   "source": [
    "state_abbrev.to_sql(name = 'states', con = engine, if_exists='replace', index=False)"
   ]
  },
  {
   "cell_type": "code",
   "execution_count": null,
   "metadata": {},
   "outputs": [],
   "source": [
    "homeless_new.to_sql(name='homelessness', con=engine, if_exists='replace', index=False)"
   ]
  },
  {
   "cell_type": "code",
   "execution_count": null,
   "metadata": {},
   "outputs": [],
   "source": [
    "##can change \"append\" to \"fail\" or \"replace\" if cells need to \n",
    "df_avg_income.to_sql(name = 'avg_income_data', con = engine, if_exists='replace', index=False)"
   ]
  },
  {
   "cell_type": "code",
   "execution_count": null,
   "metadata": {},
   "outputs": [],
   "source": [
    "finished_avg_home_cost.to_sql(name = 'avg_home_cost', con = engine, if_exists='replace', index=False)"
   ]
  },
  {
   "cell_type": "code",
   "execution_count": null,
   "metadata": {},
   "outputs": [],
   "source": [
    "engine.table_names()"
   ]
  },
  {
   "cell_type": "markdown",
   "metadata": {},
   "source": [
    "# Flask portion starts here"
   ]
  },
  {
   "cell_type": "code",
   "execution_count": null,
   "metadata": {},
   "outputs": [],
   "source": [
    "states = pd.read_sql('SELECT * FROM states', con=engine) \n",
    "states.head()"
   ]
  },
  {
   "cell_type": "code",
   "execution_count": null,
   "metadata": {},
   "outputs": [],
   "source": [
    "rent_2016 = pd.read_sql('SELECT * FROM rental_pricing WHERE year = 2016', con=engine)\n",
    "rent_2016.head()"
   ]
  },
  {
   "cell_type": "code",
   "execution_count": null,
   "metadata": {},
   "outputs": [],
   "source": [
    "rent_2016.state = rent_2016.state.str.strip()"
   ]
  },
  {
   "cell_type": "code",
   "execution_count": null,
   "metadata": {},
   "outputs": [],
   "source": [
    "rent_2016_cedit = rent_2016.rename(columns={'state':'State'})\n",
    "rent_2016_cedit.head()"
   ]
  },
  {
   "cell_type": "code",
   "execution_count": null,
   "metadata": {},
   "outputs": [],
   "source": [
    "states_rent = pd.merge(states, rent_2016_cedit[['State','avg_rent']], on = 'State', how = 'left')\n",
    "states_rent.head()"
   ]
  },
  {
   "cell_type": "code",
   "execution_count": null,
   "metadata": {
    "scrolled": true
   },
   "outputs": [],
   "source": [
    "homeless_2016 = pd.read_sql('SELECT * FROM homelessness WHERE year = 2016', con=engine)\n",
    "homeless_2016\n",
    "homeless_2016_cedit = homeless_2016.rename(columns={'state':'Code'})\n",
    "homeless_2016_cedit"
   ]
  },
  {
   "cell_type": "code",
   "execution_count": null,
   "metadata": {},
   "outputs": [],
   "source": [
    "homeless_2016_filtered = homeless_2016_cedit[['year', 'Code','Total_Homeless']]\n",
    "homeless_2016_filtered"
   ]
  },
  {
   "cell_type": "code",
   "execution_count": null,
   "metadata": {},
   "outputs": [],
   "source": [
    "homeless_2016_merge = homeless_2016_filtered.groupby(['Code'], as_index = False).sum(['Total_Homeless'])\n",
    "homeless_2016_merge.head()"
   ]
  },
  {
   "cell_type": "code",
   "execution_count": null,
   "metadata": {},
   "outputs": [],
   "source": [
    "states_rent_homeless = pd.merge(states_rent, homeless_2016_merge[['Code','Total_Homeless']], on = 'Code', how = 'left')\n",
    "states_rent_homeless.head()"
   ]
  },
  {
   "cell_type": "code",
   "execution_count": null,
   "metadata": {},
   "outputs": [],
   "source": [
    "avg_income_2016 = pd.read_sql('SELECT * FROM avg_income_data WHERE Year = 2016', con=engine)\n",
    "avg_income_2016.head()"
   ]
  },
  {
   "cell_type": "code",
   "execution_count": null,
   "metadata": {},
   "outputs": [],
   "source": [
    "avg_home_2016 = pd.read_sql('SELECT * FROM avg_home_cost WHERE Year = 2016', con=engine)\n",
    "avg_home_2016.head()"
   ]
  },
  {
   "cell_type": "code",
   "execution_count": null,
   "metadata": {},
   "outputs": [],
   "source": [
    "avg_home_2016_cedit = avg_home_2016.rename(columns={'State':'Code'})\n",
    "avg_home_2016_cedit.head()"
   ]
  },
  {
   "cell_type": "code",
   "execution_count": null,
   "metadata": {},
   "outputs": [],
   "source": [
    "states_rent_homeless_income = pd.merge(states_rent_homeless, avg_income_2016[['State','average_incomes']], on = 'State', how = 'left')\n",
    "states_rent_homeless_income.head()"
   ]
  },
  {
   "cell_type": "code",
   "execution_count": null,
   "metadata": {},
   "outputs": [],
   "source": [
    "states_rent_homeless_income_home = pd.merge(states_rent_homeless_income, avg_home_2016_cedit[['Code','avg_sale_price']], on = 'Code', how = 'left')\n",
    "states_rent_homeless_income_home.head()"
   ]
  },
  {
   "cell_type": "code",
   "execution_count": null,
   "metadata": {},
   "outputs": [],
   "source": [
    "All_Data_2016 = states_rent_homeless_income_home.drop(['Abbrev'], axis=1)\n",
    "All_Data_2016.head()"
   ]
  },
  {
   "cell_type": "markdown",
   "metadata": {},
   "source": [
    "## All Data Starts Here"
   ]
  },
  {
   "cell_type": "code",
   "execution_count": null,
   "metadata": {},
   "outputs": [],
   "source": [
    "rent_data = pd.read_sql('SELECT * FROM rental_pricing', con=engine)\n",
    "rent_data.head()"
   ]
  },
  {
   "cell_type": "code",
   "execution_count": null,
   "metadata": {},
   "outputs": [],
   "source": [
    "rent_data.state = rent_data.state.str.strip()"
   ]
  },
  {
   "cell_type": "code",
   "execution_count": null,
   "metadata": {},
   "outputs": [],
   "source": [
    "rent_data_cedit = rent_data.rename(columns={'state':'State'})\n",
    "rent_data_cedit.head()"
   ]
  },
  {
   "cell_type": "code",
   "execution_count": null,
   "metadata": {},
   "outputs": [],
   "source": [
    "homeless_data = pd.read_sql('SELECT * FROM homelessness', con=engine)\n",
    "homeless_data_cedit = homeless_data.rename(columns={'state':'Code'})\n",
    "homeless_data_filtered = homeless_data_cedit[['year', 'Code','Total_Homeless']]\n",
    "homeless_data_filtered.head()"
   ]
  },
  {
   "cell_type": "code",
   "execution_count": 1,
   "metadata": {},
   "outputs": [
    {
     "ename": "NameError",
     "evalue": "name 'homeless_data_filtered' is not defined",
     "output_type": "error",
     "traceback": [
      "\u001b[1;31m---------------------------------------------------------------------------\u001b[0m",
      "\u001b[1;31mNameError\u001b[0m                                 Traceback (most recent call last)",
      "\u001b[1;32m<ipython-input-1-b94aed8a27d5>\u001b[0m in \u001b[0;36m<module>\u001b[1;34m\u001b[0m\n\u001b[1;32m----> 1\u001b[1;33m \u001b[0mhomeless_data_merge\u001b[0m \u001b[1;33m=\u001b[0m \u001b[0mhomeless_data_filtered\u001b[0m\u001b[1;33m.\u001b[0m\u001b[0mgroupby\u001b[0m\u001b[1;33m(\u001b[0m\u001b[1;33m[\u001b[0m\u001b[1;34m'Code'\u001b[0m\u001b[1;33m,\u001b[0m\u001b[1;34m'year'\u001b[0m\u001b[1;33m]\u001b[0m\u001b[1;33m,\u001b[0m \u001b[0mas_index\u001b[0m \u001b[1;33m=\u001b[0m \u001b[1;32mFalse\u001b[0m\u001b[1;33m)\u001b[0m\u001b[1;33m.\u001b[0m\u001b[0msum\u001b[0m\u001b[1;33m(\u001b[0m\u001b[1;33m[\u001b[0m\u001b[1;34m'Total_Homeless'\u001b[0m\u001b[1;33m]\u001b[0m\u001b[1;33m)\u001b[0m\u001b[1;33m\u001b[0m\u001b[1;33m\u001b[0m\u001b[0m\n\u001b[0m\u001b[0;32m      2\u001b[0m \u001b[0mhomeless_data_merge\u001b[0m\u001b[1;33m.\u001b[0m\u001b[0mhead\u001b[0m\u001b[1;33m(\u001b[0m\u001b[1;33m)\u001b[0m\u001b[1;33m\u001b[0m\u001b[1;33m\u001b[0m\u001b[0m\n\u001b[0;32m      3\u001b[0m \u001b[0mhomeless_data_merge\u001b[0m\u001b[1;33m.\u001b[0m\u001b[0mto_csv\u001b[0m\u001b[1;33m(\u001b[0m\u001b[1;34m'homeless_data_merged'\u001b[0m\u001b[1;33m,\u001b[0m \u001b[0mindex\u001b[0m\u001b[1;33m=\u001b[0m\u001b[1;32mFalse\u001b[0m\u001b[1;33m)\u001b[0m\u001b[1;33m\u001b[0m\u001b[1;33m\u001b[0m\u001b[0m\n",
      "\u001b[1;31mNameError\u001b[0m: name 'homeless_data_filtered' is not defined"
     ]
    }
   ],
   "source": [
    "homeless_data_merge = homeless_data_filtered.groupby(['Code','year'], as_index = False).sum(['Total_Homeless'])\n",
    "homeless_data_merge.head()\n",
    "homeless_data_merge.to_csv('homeless_data_merged', index=False)"
   ]
  },
  {
   "cell_type": "code",
   "execution_count": 78,
   "metadata": {},
   "outputs": [
    {
     "data": {
      "text/html": [
       "<div>\n",
       "<style scoped>\n",
       "    .dataframe tbody tr th:only-of-type {\n",
       "        vertical-align: middle;\n",
       "    }\n",
       "\n",
       "    .dataframe tbody tr th {\n",
       "        vertical-align: top;\n",
       "    }\n",
       "\n",
       "    .dataframe thead th {\n",
       "        text-align: right;\n",
       "    }\n",
       "</style>\n",
       "<table border=\"1\" class=\"dataframe\">\n",
       "  <thead>\n",
       "    <tr style=\"text-align: right;\">\n",
       "      <th></th>\n",
       "      <th>State</th>\n",
       "      <th>year</th>\n",
       "      <th>average_incomes</th>\n",
       "    </tr>\n",
       "  </thead>\n",
       "  <tbody>\n",
       "    <tr>\n",
       "      <th>0</th>\n",
       "      <td>United States</td>\n",
       "      <td>2020</td>\n",
       "      <td>63179</td>\n",
       "    </tr>\n",
       "    <tr>\n",
       "      <th>1</th>\n",
       "      <td>Alabama</td>\n",
       "      <td>2020</td>\n",
       "      <td>49936</td>\n",
       "    </tr>\n",
       "    <tr>\n",
       "      <th>2</th>\n",
       "      <td>Alaska</td>\n",
       "      <td>2020</td>\n",
       "      <td>68734</td>\n",
       "    </tr>\n",
       "    <tr>\n",
       "      <th>3</th>\n",
       "      <td>Arizona</td>\n",
       "      <td>2020</td>\n",
       "      <td>62283</td>\n",
       "    </tr>\n",
       "    <tr>\n",
       "      <th>4</th>\n",
       "      <td>Arkansas</td>\n",
       "      <td>2020</td>\n",
       "      <td>49781</td>\n",
       "    </tr>\n",
       "  </tbody>\n",
       "</table>\n",
       "</div>"
      ],
      "text/plain": [
       "           State  year average_incomes\n",
       "0  United States  2020           63179\n",
       "1        Alabama  2020           49936\n",
       "2         Alaska  2020           68734\n",
       "3        Arizona  2020           62283\n",
       "4       Arkansas  2020           49781"
      ]
     },
     "execution_count": 78,
     "metadata": {},
     "output_type": "execute_result"
    }
   ],
   "source": [
    "income_data = pd.read_sql('SELECT * FROM avg_income_data', con=engine)\n",
    "income_data_cedit = income_data.rename(columns={'Year':'year'})\n",
    "income_data_cedit.head()"
   ]
  },
  {
   "cell_type": "code",
   "execution_count": 79,
   "metadata": {},
   "outputs": [
    {
     "data": {
      "text/html": [
       "<div>\n",
       "<style scoped>\n",
       "    .dataframe tbody tr th:only-of-type {\n",
       "        vertical-align: middle;\n",
       "    }\n",
       "\n",
       "    .dataframe tbody tr th {\n",
       "        vertical-align: top;\n",
       "    }\n",
       "\n",
       "    .dataframe thead th {\n",
       "        text-align: right;\n",
       "    }\n",
       "</style>\n",
       "<table border=\"1\" class=\"dataframe\">\n",
       "  <thead>\n",
       "    <tr style=\"text-align: right;\">\n",
       "      <th></th>\n",
       "      <th>Code</th>\n",
       "      <th>year</th>\n",
       "      <th>avg_sale_price</th>\n",
       "    </tr>\n",
       "  </thead>\n",
       "  <tbody>\n",
       "    <tr>\n",
       "      <th>0</th>\n",
       "      <td>CA</td>\n",
       "      <td>2006</td>\n",
       "      <td>535353</td>\n",
       "    </tr>\n",
       "    <tr>\n",
       "      <th>1</th>\n",
       "      <td>TX</td>\n",
       "      <td>2006</td>\n",
       "      <td>136411</td>\n",
       "    </tr>\n",
       "    <tr>\n",
       "      <th>2</th>\n",
       "      <td>NY</td>\n",
       "      <td>2006</td>\n",
       "      <td>240184</td>\n",
       "    </tr>\n",
       "    <tr>\n",
       "      <th>3</th>\n",
       "      <td>FL</td>\n",
       "      <td>2006</td>\n",
       "      <td>279318</td>\n",
       "    </tr>\n",
       "    <tr>\n",
       "      <th>4</th>\n",
       "      <td>IL</td>\n",
       "      <td>2006</td>\n",
       "      <td>233868</td>\n",
       "    </tr>\n",
       "  </tbody>\n",
       "</table>\n",
       "</div>"
      ],
      "text/plain": [
       "  Code  year  avg_sale_price\n",
       "0   CA  2006          535353\n",
       "1   TX  2006          136411\n",
       "2   NY  2006          240184\n",
       "3   FL  2006          279318\n",
       "4   IL  2006          233868"
      ]
     },
     "execution_count": 79,
     "metadata": {},
     "output_type": "execute_result"
    }
   ],
   "source": [
    "home_price_data = pd.read_sql('SELECT * FROM avg_home_cost', con=engine)\n",
    "home_price_data_cedit = home_price_data.rename(columns={'State':'Code','Year':'year'})\n",
    "home_price_data_cedit.head()"
   ]
  },
  {
   "cell_type": "code",
   "execution_count": 80,
   "metadata": {},
   "outputs": [
    {
     "data": {
      "text/html": [
       "<div>\n",
       "<style scoped>\n",
       "    .dataframe tbody tr th:only-of-type {\n",
       "        vertical-align: middle;\n",
       "    }\n",
       "\n",
       "    .dataframe tbody tr th {\n",
       "        vertical-align: top;\n",
       "    }\n",
       "\n",
       "    .dataframe thead th {\n",
       "        text-align: right;\n",
       "    }\n",
       "</style>\n",
       "<table border=\"1\" class=\"dataframe\">\n",
       "  <thead>\n",
       "    <tr style=\"text-align: right;\">\n",
       "      <th></th>\n",
       "      <th>State</th>\n",
       "      <th>Abbrev</th>\n",
       "      <th>Code</th>\n",
       "      <th>year</th>\n",
       "      <th>avg_rent</th>\n",
       "    </tr>\n",
       "  </thead>\n",
       "  <tbody>\n",
       "    <tr>\n",
       "      <th>0</th>\n",
       "      <td>Alabama</td>\n",
       "      <td>Ala.</td>\n",
       "      <td>AL</td>\n",
       "      <td>2006</td>\n",
       "      <td>520.4</td>\n",
       "    </tr>\n",
       "    <tr>\n",
       "      <th>1</th>\n",
       "      <td>Alabama</td>\n",
       "      <td>Ala.</td>\n",
       "      <td>AL</td>\n",
       "      <td>2007</td>\n",
       "      <td>541.6</td>\n",
       "    </tr>\n",
       "    <tr>\n",
       "      <th>2</th>\n",
       "      <td>Alabama</td>\n",
       "      <td>Ala.</td>\n",
       "      <td>AL</td>\n",
       "      <td>2008</td>\n",
       "      <td>580.4</td>\n",
       "    </tr>\n",
       "    <tr>\n",
       "      <th>3</th>\n",
       "      <td>Alabama</td>\n",
       "      <td>Ala.</td>\n",
       "      <td>AL</td>\n",
       "      <td>2009</td>\n",
       "      <td>617.0</td>\n",
       "    </tr>\n",
       "    <tr>\n",
       "      <th>4</th>\n",
       "      <td>Alabama</td>\n",
       "      <td>Ala.</td>\n",
       "      <td>AL</td>\n",
       "      <td>2010</td>\n",
       "      <td>643.8</td>\n",
       "    </tr>\n",
       "    <tr>\n",
       "      <th>...</th>\n",
       "      <td>...</td>\n",
       "      <td>...</td>\n",
       "      <td>...</td>\n",
       "      <td>...</td>\n",
       "      <td>...</td>\n",
       "    </tr>\n",
       "    <tr>\n",
       "      <th>760</th>\n",
       "      <td>Wyoming</td>\n",
       "      <td>Wyo.</td>\n",
       "      <td>WY</td>\n",
       "      <td>2016</td>\n",
       "      <td>840.4</td>\n",
       "    </tr>\n",
       "    <tr>\n",
       "      <th>761</th>\n",
       "      <td>Wyoming</td>\n",
       "      <td>Wyo.</td>\n",
       "      <td>WY</td>\n",
       "      <td>2017</td>\n",
       "      <td>833.8</td>\n",
       "    </tr>\n",
       "    <tr>\n",
       "      <th>762</th>\n",
       "      <td>Wyoming</td>\n",
       "      <td>Wyo.</td>\n",
       "      <td>WY</td>\n",
       "      <td>2018</td>\n",
       "      <td>891.2</td>\n",
       "    </tr>\n",
       "    <tr>\n",
       "      <th>763</th>\n",
       "      <td>Wyoming</td>\n",
       "      <td>Wyo.</td>\n",
       "      <td>WY</td>\n",
       "      <td>2019</td>\n",
       "      <td>910.6</td>\n",
       "    </tr>\n",
       "    <tr>\n",
       "      <th>764</th>\n",
       "      <td>Wyoming</td>\n",
       "      <td>Wyo.</td>\n",
       "      <td>WY</td>\n",
       "      <td>2020</td>\n",
       "      <td>941.4</td>\n",
       "    </tr>\n",
       "  </tbody>\n",
       "</table>\n",
       "<p>765 rows × 5 columns</p>\n",
       "</div>"
      ],
      "text/plain": [
       "       State Abbrev Code  year  avg_rent\n",
       "0    Alabama   Ala.   AL  2006     520.4\n",
       "1    Alabama   Ala.   AL  2007     541.6\n",
       "2    Alabama   Ala.   AL  2008     580.4\n",
       "3    Alabama   Ala.   AL  2009     617.0\n",
       "4    Alabama   Ala.   AL  2010     643.8\n",
       "..       ...    ...  ...   ...       ...\n",
       "760  Wyoming   Wyo.   WY  2016     840.4\n",
       "761  Wyoming   Wyo.   WY  2017     833.8\n",
       "762  Wyoming   Wyo.   WY  2018     891.2\n",
       "763  Wyoming   Wyo.   WY  2019     910.6\n",
       "764  Wyoming   Wyo.   WY  2020     941.4\n",
       "\n",
       "[765 rows x 5 columns]"
      ]
     },
     "execution_count": 80,
     "metadata": {},
     "output_type": "execute_result"
    }
   ],
   "source": [
    "all_states_rent = pd.merge(states, rent_data_cedit[['State','year','avg_rent']], on = 'State', how = 'left')\n",
    "all_states_rent"
   ]
  },
  {
   "cell_type": "code",
   "execution_count": 81,
   "metadata": {},
   "outputs": [
    {
     "data": {
      "text/html": [
       "<div>\n",
       "<style scoped>\n",
       "    .dataframe tbody tr th:only-of-type {\n",
       "        vertical-align: middle;\n",
       "    }\n",
       "\n",
       "    .dataframe tbody tr th {\n",
       "        vertical-align: top;\n",
       "    }\n",
       "\n",
       "    .dataframe thead th {\n",
       "        text-align: right;\n",
       "    }\n",
       "</style>\n",
       "<table border=\"1\" class=\"dataframe\">\n",
       "  <thead>\n",
       "    <tr style=\"text-align: right;\">\n",
       "      <th></th>\n",
       "      <th>State</th>\n",
       "      <th>Abbrev</th>\n",
       "      <th>Code</th>\n",
       "      <th>year</th>\n",
       "      <th>avg_rent</th>\n",
       "      <th>Total_Homeless</th>\n",
       "    </tr>\n",
       "  </thead>\n",
       "  <tbody>\n",
       "    <tr>\n",
       "      <th>0</th>\n",
       "      <td>Alabama</td>\n",
       "      <td>Ala.</td>\n",
       "      <td>AL</td>\n",
       "      <td>2006</td>\n",
       "      <td>520.4</td>\n",
       "      <td>NaN</td>\n",
       "    </tr>\n",
       "    <tr>\n",
       "      <th>1</th>\n",
       "      <td>Alabama</td>\n",
       "      <td>Ala.</td>\n",
       "      <td>AL</td>\n",
       "      <td>2007</td>\n",
       "      <td>541.6</td>\n",
       "      <td>5452.0</td>\n",
       "    </tr>\n",
       "    <tr>\n",
       "      <th>2</th>\n",
       "      <td>Alabama</td>\n",
       "      <td>Ala.</td>\n",
       "      <td>AL</td>\n",
       "      <td>2008</td>\n",
       "      <td>580.4</td>\n",
       "      <td>5387.0</td>\n",
       "    </tr>\n",
       "    <tr>\n",
       "      <th>3</th>\n",
       "      <td>Alabama</td>\n",
       "      <td>Ala.</td>\n",
       "      <td>AL</td>\n",
       "      <td>2009</td>\n",
       "      <td>617.0</td>\n",
       "      <td>6080.0</td>\n",
       "    </tr>\n",
       "    <tr>\n",
       "      <th>4</th>\n",
       "      <td>Alabama</td>\n",
       "      <td>Ala.</td>\n",
       "      <td>AL</td>\n",
       "      <td>2010</td>\n",
       "      <td>643.8</td>\n",
       "      <td>6046.0</td>\n",
       "    </tr>\n",
       "    <tr>\n",
       "      <th>...</th>\n",
       "      <td>...</td>\n",
       "      <td>...</td>\n",
       "      <td>...</td>\n",
       "      <td>...</td>\n",
       "      <td>...</td>\n",
       "      <td>...</td>\n",
       "    </tr>\n",
       "    <tr>\n",
       "      <th>760</th>\n",
       "      <td>Wyoming</td>\n",
       "      <td>Wyo.</td>\n",
       "      <td>WY</td>\n",
       "      <td>2016</td>\n",
       "      <td>840.4</td>\n",
       "      <td>857.0</td>\n",
       "    </tr>\n",
       "    <tr>\n",
       "      <th>761</th>\n",
       "      <td>Wyoming</td>\n",
       "      <td>Wyo.</td>\n",
       "      <td>WY</td>\n",
       "      <td>2017</td>\n",
       "      <td>833.8</td>\n",
       "      <td>NaN</td>\n",
       "    </tr>\n",
       "    <tr>\n",
       "      <th>762</th>\n",
       "      <td>Wyoming</td>\n",
       "      <td>Wyo.</td>\n",
       "      <td>WY</td>\n",
       "      <td>2018</td>\n",
       "      <td>891.2</td>\n",
       "      <td>NaN</td>\n",
       "    </tr>\n",
       "    <tr>\n",
       "      <th>763</th>\n",
       "      <td>Wyoming</td>\n",
       "      <td>Wyo.</td>\n",
       "      <td>WY</td>\n",
       "      <td>2019</td>\n",
       "      <td>910.6</td>\n",
       "      <td>NaN</td>\n",
       "    </tr>\n",
       "    <tr>\n",
       "      <th>764</th>\n",
       "      <td>Wyoming</td>\n",
       "      <td>Wyo.</td>\n",
       "      <td>WY</td>\n",
       "      <td>2020</td>\n",
       "      <td>941.4</td>\n",
       "      <td>NaN</td>\n",
       "    </tr>\n",
       "  </tbody>\n",
       "</table>\n",
       "<p>765 rows × 6 columns</p>\n",
       "</div>"
      ],
      "text/plain": [
       "       State Abbrev Code  year  avg_rent  Total_Homeless\n",
       "0    Alabama   Ala.   AL  2006     520.4             NaN\n",
       "1    Alabama   Ala.   AL  2007     541.6          5452.0\n",
       "2    Alabama   Ala.   AL  2008     580.4          5387.0\n",
       "3    Alabama   Ala.   AL  2009     617.0          6080.0\n",
       "4    Alabama   Ala.   AL  2010     643.8          6046.0\n",
       "..       ...    ...  ...   ...       ...             ...\n",
       "760  Wyoming   Wyo.   WY  2016     840.4           857.0\n",
       "761  Wyoming   Wyo.   WY  2017     833.8             NaN\n",
       "762  Wyoming   Wyo.   WY  2018     891.2             NaN\n",
       "763  Wyoming   Wyo.   WY  2019     910.6             NaN\n",
       "764  Wyoming   Wyo.   WY  2020     941.4             NaN\n",
       "\n",
       "[765 rows x 6 columns]"
      ]
     },
     "execution_count": 81,
     "metadata": {},
     "output_type": "execute_result"
    }
   ],
   "source": [
    "all_states_rent_homeless = pd.merge(all_states_rent, homeless_data_merge[['Code','year','Total_Homeless']], on = ['year','Code'], how = 'left')\n",
    "all_states_rent_homeless"
   ]
  },
  {
   "cell_type": "code",
   "execution_count": 82,
   "metadata": {},
   "outputs": [
    {
     "data": {
      "text/html": [
       "<div>\n",
       "<style scoped>\n",
       "    .dataframe tbody tr th:only-of-type {\n",
       "        vertical-align: middle;\n",
       "    }\n",
       "\n",
       "    .dataframe tbody tr th {\n",
       "        vertical-align: top;\n",
       "    }\n",
       "\n",
       "    .dataframe thead th {\n",
       "        text-align: right;\n",
       "    }\n",
       "</style>\n",
       "<table border=\"1\" class=\"dataframe\">\n",
       "  <thead>\n",
       "    <tr style=\"text-align: right;\">\n",
       "      <th></th>\n",
       "      <th>State</th>\n",
       "      <th>Abbrev</th>\n",
       "      <th>Code</th>\n",
       "      <th>year</th>\n",
       "      <th>avg_rent</th>\n",
       "      <th>Total_Homeless</th>\n",
       "      <th>avg_sale_price</th>\n",
       "    </tr>\n",
       "  </thead>\n",
       "  <tbody>\n",
       "    <tr>\n",
       "      <th>0</th>\n",
       "      <td>Alabama</td>\n",
       "      <td>Ala.</td>\n",
       "      <td>AL</td>\n",
       "      <td>2006</td>\n",
       "      <td>520.4</td>\n",
       "      <td>NaN</td>\n",
       "      <td>126891</td>\n",
       "    </tr>\n",
       "    <tr>\n",
       "      <th>1</th>\n",
       "      <td>Alabama</td>\n",
       "      <td>Ala.</td>\n",
       "      <td>AL</td>\n",
       "      <td>2007</td>\n",
       "      <td>541.6</td>\n",
       "      <td>5452.0</td>\n",
       "      <td>132882</td>\n",
       "    </tr>\n",
       "    <tr>\n",
       "      <th>2</th>\n",
       "      <td>Alabama</td>\n",
       "      <td>Ala.</td>\n",
       "      <td>AL</td>\n",
       "      <td>2008</td>\n",
       "      <td>580.4</td>\n",
       "      <td>5387.0</td>\n",
       "      <td>131912</td>\n",
       "    </tr>\n",
       "    <tr>\n",
       "      <th>3</th>\n",
       "      <td>Alabama</td>\n",
       "      <td>Ala.</td>\n",
       "      <td>AL</td>\n",
       "      <td>2009</td>\n",
       "      <td>617.0</td>\n",
       "      <td>6080.0</td>\n",
       "      <td>126490</td>\n",
       "    </tr>\n",
       "    <tr>\n",
       "      <th>4</th>\n",
       "      <td>Alabama</td>\n",
       "      <td>Ala.</td>\n",
       "      <td>AL</td>\n",
       "      <td>2010</td>\n",
       "      <td>643.8</td>\n",
       "      <td>6046.0</td>\n",
       "      <td>121892</td>\n",
       "    </tr>\n",
       "    <tr>\n",
       "      <th>...</th>\n",
       "      <td>...</td>\n",
       "      <td>...</td>\n",
       "      <td>...</td>\n",
       "      <td>...</td>\n",
       "      <td>...</td>\n",
       "      <td>...</td>\n",
       "      <td>...</td>\n",
       "    </tr>\n",
       "    <tr>\n",
       "      <th>760</th>\n",
       "      <td>Wyoming</td>\n",
       "      <td>Wyo.</td>\n",
       "      <td>WY</td>\n",
       "      <td>2016</td>\n",
       "      <td>840.4</td>\n",
       "      <td>857.0</td>\n",
       "      <td>224299</td>\n",
       "    </tr>\n",
       "    <tr>\n",
       "      <th>761</th>\n",
       "      <td>Wyoming</td>\n",
       "      <td>Wyo.</td>\n",
       "      <td>WY</td>\n",
       "      <td>2017</td>\n",
       "      <td>833.8</td>\n",
       "      <td>NaN</td>\n",
       "      <td>224799</td>\n",
       "    </tr>\n",
       "    <tr>\n",
       "      <th>762</th>\n",
       "      <td>Wyoming</td>\n",
       "      <td>Wyo.</td>\n",
       "      <td>WY</td>\n",
       "      <td>2018</td>\n",
       "      <td>891.2</td>\n",
       "      <td>NaN</td>\n",
       "      <td>233757</td>\n",
       "    </tr>\n",
       "    <tr>\n",
       "      <th>763</th>\n",
       "      <td>Wyoming</td>\n",
       "      <td>Wyo.</td>\n",
       "      <td>WY</td>\n",
       "      <td>2019</td>\n",
       "      <td>910.6</td>\n",
       "      <td>NaN</td>\n",
       "      <td>244731</td>\n",
       "    </tr>\n",
       "    <tr>\n",
       "      <th>764</th>\n",
       "      <td>Wyoming</td>\n",
       "      <td>Wyo.</td>\n",
       "      <td>WY</td>\n",
       "      <td>2020</td>\n",
       "      <td>941.4</td>\n",
       "      <td>NaN</td>\n",
       "      <td>255055</td>\n",
       "    </tr>\n",
       "  </tbody>\n",
       "</table>\n",
       "<p>765 rows × 7 columns</p>\n",
       "</div>"
      ],
      "text/plain": [
       "       State Abbrev Code  year  avg_rent  Total_Homeless  avg_sale_price\n",
       "0    Alabama   Ala.   AL  2006     520.4             NaN          126891\n",
       "1    Alabama   Ala.   AL  2007     541.6          5452.0          132882\n",
       "2    Alabama   Ala.   AL  2008     580.4          5387.0          131912\n",
       "3    Alabama   Ala.   AL  2009     617.0          6080.0          126490\n",
       "4    Alabama   Ala.   AL  2010     643.8          6046.0          121892\n",
       "..       ...    ...  ...   ...       ...             ...             ...\n",
       "760  Wyoming   Wyo.   WY  2016     840.4           857.0          224299\n",
       "761  Wyoming   Wyo.   WY  2017     833.8             NaN          224799\n",
       "762  Wyoming   Wyo.   WY  2018     891.2             NaN          233757\n",
       "763  Wyoming   Wyo.   WY  2019     910.6             NaN          244731\n",
       "764  Wyoming   Wyo.   WY  2020     941.4             NaN          255055\n",
       "\n",
       "[765 rows x 7 columns]"
      ]
     },
     "execution_count": 82,
     "metadata": {},
     "output_type": "execute_result"
    }
   ],
   "source": [
    "all_states_rent_homeless_home = pd.merge(all_states_rent_homeless, home_price_data_cedit[['Code','year','avg_sale_price']], on = ['year','Code'], how = 'left')\n",
    "all_states_rent_homeless_home"
   ]
  },
  {
   "cell_type": "code",
   "execution_count": 83,
   "metadata": {},
   "outputs": [
    {
     "data": {
      "text/html": [
       "<div>\n",
       "<style scoped>\n",
       "    .dataframe tbody tr th:only-of-type {\n",
       "        vertical-align: middle;\n",
       "    }\n",
       "\n",
       "    .dataframe tbody tr th {\n",
       "        vertical-align: top;\n",
       "    }\n",
       "\n",
       "    .dataframe thead th {\n",
       "        text-align: right;\n",
       "    }\n",
       "</style>\n",
       "<table border=\"1\" class=\"dataframe\">\n",
       "  <thead>\n",
       "    <tr style=\"text-align: right;\">\n",
       "      <th></th>\n",
       "      <th>State</th>\n",
       "      <th>Abbrev</th>\n",
       "      <th>Code</th>\n",
       "      <th>year</th>\n",
       "      <th>avg_rent</th>\n",
       "      <th>Total_Homeless</th>\n",
       "      <th>avg_sale_price</th>\n",
       "      <th>average_incomes</th>\n",
       "    </tr>\n",
       "  </thead>\n",
       "  <tbody>\n",
       "    <tr>\n",
       "      <th>0</th>\n",
       "      <td>Alabama</td>\n",
       "      <td>Ala.</td>\n",
       "      <td>AL</td>\n",
       "      <td>2006</td>\n",
       "      <td>520.4</td>\n",
       "      <td>NaN</td>\n",
       "      <td>126891</td>\n",
       "      <td>37952</td>\n",
       "    </tr>\n",
       "    <tr>\n",
       "      <th>1</th>\n",
       "      <td>Alabama</td>\n",
       "      <td>Ala.</td>\n",
       "      <td>AL</td>\n",
       "      <td>2007</td>\n",
       "      <td>541.6</td>\n",
       "      <td>5452.0</td>\n",
       "      <td>132882</td>\n",
       "      <td>42212</td>\n",
       "    </tr>\n",
       "    <tr>\n",
       "      <th>2</th>\n",
       "      <td>Alabama</td>\n",
       "      <td>Ala.</td>\n",
       "      <td>AL</td>\n",
       "      <td>2008</td>\n",
       "      <td>580.4</td>\n",
       "      <td>5387.0</td>\n",
       "      <td>131912</td>\n",
       "      <td>44476</td>\n",
       "    </tr>\n",
       "    <tr>\n",
       "      <th>3</th>\n",
       "      <td>Alabama</td>\n",
       "      <td>Ala.</td>\n",
       "      <td>AL</td>\n",
       "      <td>2009</td>\n",
       "      <td>617.0</td>\n",
       "      <td>6080.0</td>\n",
       "      <td>126490</td>\n",
       "      <td>39980</td>\n",
       "    </tr>\n",
       "    <tr>\n",
       "      <th>4</th>\n",
       "      <td>Alabama</td>\n",
       "      <td>Ala.</td>\n",
       "      <td>AL</td>\n",
       "      <td>2010</td>\n",
       "      <td>643.8</td>\n",
       "      <td>6046.0</td>\n",
       "      <td>121892</td>\n",
       "      <td>40933</td>\n",
       "    </tr>\n",
       "    <tr>\n",
       "      <th>...</th>\n",
       "      <td>...</td>\n",
       "      <td>...</td>\n",
       "      <td>...</td>\n",
       "      <td>...</td>\n",
       "      <td>...</td>\n",
       "      <td>...</td>\n",
       "      <td>...</td>\n",
       "      <td>...</td>\n",
       "    </tr>\n",
       "    <tr>\n",
       "      <th>760</th>\n",
       "      <td>Wyoming</td>\n",
       "      <td>Wyo.</td>\n",
       "      <td>WY</td>\n",
       "      <td>2016</td>\n",
       "      <td>840.4</td>\n",
       "      <td>857.0</td>\n",
       "      <td>224299</td>\n",
       "      <td>60925</td>\n",
       "    </tr>\n",
       "    <tr>\n",
       "      <th>761</th>\n",
       "      <td>Wyoming</td>\n",
       "      <td>Wyo.</td>\n",
       "      <td>WY</td>\n",
       "      <td>2017</td>\n",
       "      <td>833.8</td>\n",
       "      <td>NaN</td>\n",
       "      <td>224799</td>\n",
       "      <td>57829</td>\n",
       "    </tr>\n",
       "    <tr>\n",
       "      <th>762</th>\n",
       "      <td>Wyoming</td>\n",
       "      <td>Wyo.</td>\n",
       "      <td>WY</td>\n",
       "      <td>2018</td>\n",
       "      <td>891.2</td>\n",
       "      <td>NaN</td>\n",
       "      <td>233757</td>\n",
       "      <td>57837</td>\n",
       "    </tr>\n",
       "    <tr>\n",
       "      <th>763</th>\n",
       "      <td>Wyoming</td>\n",
       "      <td>Wyo.</td>\n",
       "      <td>WY</td>\n",
       "      <td>2019</td>\n",
       "      <td>910.6</td>\n",
       "      <td>NaN</td>\n",
       "      <td>244731</td>\n",
       "      <td>59536</td>\n",
       "    </tr>\n",
       "    <tr>\n",
       "      <th>764</th>\n",
       "      <td>Wyoming</td>\n",
       "      <td>Wyo.</td>\n",
       "      <td>WY</td>\n",
       "      <td>2020</td>\n",
       "      <td>941.4</td>\n",
       "      <td>NaN</td>\n",
       "      <td>255055</td>\n",
       "      <td>62539</td>\n",
       "    </tr>\n",
       "  </tbody>\n",
       "</table>\n",
       "<p>765 rows × 8 columns</p>\n",
       "</div>"
      ],
      "text/plain": [
       "       State Abbrev Code  year  avg_rent  Total_Homeless  avg_sale_price  \\\n",
       "0    Alabama   Ala.   AL  2006     520.4             NaN          126891   \n",
       "1    Alabama   Ala.   AL  2007     541.6          5452.0          132882   \n",
       "2    Alabama   Ala.   AL  2008     580.4          5387.0          131912   \n",
       "3    Alabama   Ala.   AL  2009     617.0          6080.0          126490   \n",
       "4    Alabama   Ala.   AL  2010     643.8          6046.0          121892   \n",
       "..       ...    ...  ...   ...       ...             ...             ...   \n",
       "760  Wyoming   Wyo.   WY  2016     840.4           857.0          224299   \n",
       "761  Wyoming   Wyo.   WY  2017     833.8             NaN          224799   \n",
       "762  Wyoming   Wyo.   WY  2018     891.2             NaN          233757   \n",
       "763  Wyoming   Wyo.   WY  2019     910.6             NaN          244731   \n",
       "764  Wyoming   Wyo.   WY  2020     941.4             NaN          255055   \n",
       "\n",
       "    average_incomes  \n",
       "0             37952  \n",
       "1             42212  \n",
       "2             44476  \n",
       "3             39980  \n",
       "4             40933  \n",
       "..              ...  \n",
       "760           60925  \n",
       "761           57829  \n",
       "762           57837  \n",
       "763           59536  \n",
       "764           62539  \n",
       "\n",
       "[765 rows x 8 columns]"
      ]
     },
     "execution_count": 83,
     "metadata": {},
     "output_type": "execute_result"
    }
   ],
   "source": [
    "all_states_rent_homeless_home_income = pd.merge(all_states_rent_homeless_home, income_data_cedit[['State','year','average_incomes']], on = ['year','State'], how = 'left')\n",
    "all_states_rent_homeless_home_income"
   ]
  },
  {
   "cell_type": "code",
   "execution_count": 84,
   "metadata": {},
   "outputs": [
    {
     "data": {
      "text/html": [
       "<div>\n",
       "<style scoped>\n",
       "    .dataframe tbody tr th:only-of-type {\n",
       "        vertical-align: middle;\n",
       "    }\n",
       "\n",
       "    .dataframe tbody tr th {\n",
       "        vertical-align: top;\n",
       "    }\n",
       "\n",
       "    .dataframe thead th {\n",
       "        text-align: right;\n",
       "    }\n",
       "</style>\n",
       "<table border=\"1\" class=\"dataframe\">\n",
       "  <thead>\n",
       "    <tr style=\"text-align: right;\">\n",
       "      <th></th>\n",
       "      <th>State</th>\n",
       "      <th>Abbrev</th>\n",
       "      <th>Code</th>\n",
       "      <th>year</th>\n",
       "      <th>avg_rent</th>\n",
       "      <th>Total_Homeless</th>\n",
       "      <th>avg_sale_price</th>\n",
       "      <th>average_incomes</th>\n",
       "    </tr>\n",
       "  </thead>\n",
       "  <tbody>\n",
       "    <tr>\n",
       "      <th>1</th>\n",
       "      <td>Alabama</td>\n",
       "      <td>Ala.</td>\n",
       "      <td>AL</td>\n",
       "      <td>2007</td>\n",
       "      <td>541.6</td>\n",
       "      <td>5452.0</td>\n",
       "      <td>132882</td>\n",
       "      <td>42212</td>\n",
       "    </tr>\n",
       "    <tr>\n",
       "      <th>2</th>\n",
       "      <td>Alabama</td>\n",
       "      <td>Ala.</td>\n",
       "      <td>AL</td>\n",
       "      <td>2008</td>\n",
       "      <td>580.4</td>\n",
       "      <td>5387.0</td>\n",
       "      <td>131912</td>\n",
       "      <td>44476</td>\n",
       "    </tr>\n",
       "    <tr>\n",
       "      <th>3</th>\n",
       "      <td>Alabama</td>\n",
       "      <td>Ala.</td>\n",
       "      <td>AL</td>\n",
       "      <td>2009</td>\n",
       "      <td>617.0</td>\n",
       "      <td>6080.0</td>\n",
       "      <td>126490</td>\n",
       "      <td>39980</td>\n",
       "    </tr>\n",
       "    <tr>\n",
       "      <th>4</th>\n",
       "      <td>Alabama</td>\n",
       "      <td>Ala.</td>\n",
       "      <td>AL</td>\n",
       "      <td>2010</td>\n",
       "      <td>643.8</td>\n",
       "      <td>6046.0</td>\n",
       "      <td>121892</td>\n",
       "      <td>40933</td>\n",
       "    </tr>\n",
       "    <tr>\n",
       "      <th>5</th>\n",
       "      <td>Alabama</td>\n",
       "      <td>Ala.</td>\n",
       "      <td>AL</td>\n",
       "      <td>2011</td>\n",
       "      <td>647.2</td>\n",
       "      <td>5558.0</td>\n",
       "      <td>115957</td>\n",
       "      <td>42590</td>\n",
       "    </tr>\n",
       "    <tr>\n",
       "      <th>...</th>\n",
       "      <td>...</td>\n",
       "      <td>...</td>\n",
       "      <td>...</td>\n",
       "      <td>...</td>\n",
       "      <td>...</td>\n",
       "      <td>...</td>\n",
       "      <td>...</td>\n",
       "      <td>...</td>\n",
       "    </tr>\n",
       "    <tr>\n",
       "      <th>756</th>\n",
       "      <td>Wyoming</td>\n",
       "      <td>Wyo.</td>\n",
       "      <td>WY</td>\n",
       "      <td>2012</td>\n",
       "      <td>695.8</td>\n",
       "      <td>1813.0</td>\n",
       "      <td>197052</td>\n",
       "      <td>57512</td>\n",
       "    </tr>\n",
       "    <tr>\n",
       "      <th>757</th>\n",
       "      <td>Wyoming</td>\n",
       "      <td>Wyo.</td>\n",
       "      <td>WY</td>\n",
       "      <td>2013</td>\n",
       "      <td>818.8</td>\n",
       "      <td>953.0</td>\n",
       "      <td>203823</td>\n",
       "      <td>55700</td>\n",
       "    </tr>\n",
       "    <tr>\n",
       "      <th>758</th>\n",
       "      <td>Wyoming</td>\n",
       "      <td>Wyo.</td>\n",
       "      <td>WY</td>\n",
       "      <td>2014</td>\n",
       "      <td>797.4</td>\n",
       "      <td>757.0</td>\n",
       "      <td>210869</td>\n",
       "      <td>67441</td>\n",
       "    </tr>\n",
       "    <tr>\n",
       "      <th>759</th>\n",
       "      <td>Wyoming</td>\n",
       "      <td>Wyo.</td>\n",
       "      <td>WY</td>\n",
       "      <td>2015</td>\n",
       "      <td>806.0</td>\n",
       "      <td>798.0</td>\n",
       "      <td>218739</td>\n",
       "      <td>55690</td>\n",
       "    </tr>\n",
       "    <tr>\n",
       "      <th>760</th>\n",
       "      <td>Wyoming</td>\n",
       "      <td>Wyo.</td>\n",
       "      <td>WY</td>\n",
       "      <td>2016</td>\n",
       "      <td>840.4</td>\n",
       "      <td>857.0</td>\n",
       "      <td>224299</td>\n",
       "      <td>60925</td>\n",
       "    </tr>\n",
       "  </tbody>\n",
       "</table>\n",
       "<p>500 rows × 8 columns</p>\n",
       "</div>"
      ],
      "text/plain": [
       "       State Abbrev Code  year  avg_rent  Total_Homeless  avg_sale_price  \\\n",
       "1    Alabama   Ala.   AL  2007     541.6          5452.0          132882   \n",
       "2    Alabama   Ala.   AL  2008     580.4          5387.0          131912   \n",
       "3    Alabama   Ala.   AL  2009     617.0          6080.0          126490   \n",
       "4    Alabama   Ala.   AL  2010     643.8          6046.0          121892   \n",
       "5    Alabama   Ala.   AL  2011     647.2          5558.0          115957   \n",
       "..       ...    ...  ...   ...       ...             ...             ...   \n",
       "756  Wyoming   Wyo.   WY  2012     695.8          1813.0          197052   \n",
       "757  Wyoming   Wyo.   WY  2013     818.8           953.0          203823   \n",
       "758  Wyoming   Wyo.   WY  2014     797.4           757.0          210869   \n",
       "759  Wyoming   Wyo.   WY  2015     806.0           798.0          218739   \n",
       "760  Wyoming   Wyo.   WY  2016     840.4           857.0          224299   \n",
       "\n",
       "    average_incomes  \n",
       "1             42212  \n",
       "2             44476  \n",
       "3             39980  \n",
       "4             40933  \n",
       "5             42590  \n",
       "..              ...  \n",
       "756           57512  \n",
       "757           55700  \n",
       "758           67441  \n",
       "759           55690  \n",
       "760           60925  \n",
       "\n",
       "[500 rows x 8 columns]"
      ]
     },
     "execution_count": 84,
     "metadata": {},
     "output_type": "execute_result"
    }
   ],
   "source": [
    "test = all_states_rent_homeless_home_income.dropna()\n",
    "test"
   ]
  },
  {
   "cell_type": "code",
   "execution_count": 85,
   "metadata": {},
   "outputs": [
    {
     "data": {
      "text/html": [
       "<div>\n",
       "<style scoped>\n",
       "    .dataframe tbody tr th:only-of-type {\n",
       "        vertical-align: middle;\n",
       "    }\n",
       "\n",
       "    .dataframe tbody tr th {\n",
       "        vertical-align: top;\n",
       "    }\n",
       "\n",
       "    .dataframe thead th {\n",
       "        text-align: right;\n",
       "    }\n",
       "</style>\n",
       "<table border=\"1\" class=\"dataframe\">\n",
       "  <thead>\n",
       "    <tr style=\"text-align: right;\">\n",
       "      <th></th>\n",
       "      <th>State</th>\n",
       "      <th>Code</th>\n",
       "      <th>year</th>\n",
       "      <th>avg_rent</th>\n",
       "      <th>Total_Homeless</th>\n",
       "      <th>avg_sale_price</th>\n",
       "      <th>average_incomes</th>\n",
       "    </tr>\n",
       "  </thead>\n",
       "  <tbody>\n",
       "    <tr>\n",
       "      <th>1</th>\n",
       "      <td>Alabama</td>\n",
       "      <td>AL</td>\n",
       "      <td>2007</td>\n",
       "      <td>541.6</td>\n",
       "      <td>5452.0</td>\n",
       "      <td>132882</td>\n",
       "      <td>42212</td>\n",
       "    </tr>\n",
       "    <tr>\n",
       "      <th>2</th>\n",
       "      <td>Alabama</td>\n",
       "      <td>AL</td>\n",
       "      <td>2008</td>\n",
       "      <td>580.4</td>\n",
       "      <td>5387.0</td>\n",
       "      <td>131912</td>\n",
       "      <td>44476</td>\n",
       "    </tr>\n",
       "    <tr>\n",
       "      <th>3</th>\n",
       "      <td>Alabama</td>\n",
       "      <td>AL</td>\n",
       "      <td>2009</td>\n",
       "      <td>617.0</td>\n",
       "      <td>6080.0</td>\n",
       "      <td>126490</td>\n",
       "      <td>39980</td>\n",
       "    </tr>\n",
       "    <tr>\n",
       "      <th>4</th>\n",
       "      <td>Alabama</td>\n",
       "      <td>AL</td>\n",
       "      <td>2010</td>\n",
       "      <td>643.8</td>\n",
       "      <td>6046.0</td>\n",
       "      <td>121892</td>\n",
       "      <td>40933</td>\n",
       "    </tr>\n",
       "    <tr>\n",
       "      <th>5</th>\n",
       "      <td>Alabama</td>\n",
       "      <td>AL</td>\n",
       "      <td>2011</td>\n",
       "      <td>647.2</td>\n",
       "      <td>5558.0</td>\n",
       "      <td>115957</td>\n",
       "      <td>42590</td>\n",
       "    </tr>\n",
       "    <tr>\n",
       "      <th>...</th>\n",
       "      <td>...</td>\n",
       "      <td>...</td>\n",
       "      <td>...</td>\n",
       "      <td>...</td>\n",
       "      <td>...</td>\n",
       "      <td>...</td>\n",
       "      <td>...</td>\n",
       "    </tr>\n",
       "    <tr>\n",
       "      <th>756</th>\n",
       "      <td>Wyoming</td>\n",
       "      <td>WY</td>\n",
       "      <td>2012</td>\n",
       "      <td>695.8</td>\n",
       "      <td>1813.0</td>\n",
       "      <td>197052</td>\n",
       "      <td>57512</td>\n",
       "    </tr>\n",
       "    <tr>\n",
       "      <th>757</th>\n",
       "      <td>Wyoming</td>\n",
       "      <td>WY</td>\n",
       "      <td>2013</td>\n",
       "      <td>818.8</td>\n",
       "      <td>953.0</td>\n",
       "      <td>203823</td>\n",
       "      <td>55700</td>\n",
       "    </tr>\n",
       "    <tr>\n",
       "      <th>758</th>\n",
       "      <td>Wyoming</td>\n",
       "      <td>WY</td>\n",
       "      <td>2014</td>\n",
       "      <td>797.4</td>\n",
       "      <td>757.0</td>\n",
       "      <td>210869</td>\n",
       "      <td>67441</td>\n",
       "    </tr>\n",
       "    <tr>\n",
       "      <th>759</th>\n",
       "      <td>Wyoming</td>\n",
       "      <td>WY</td>\n",
       "      <td>2015</td>\n",
       "      <td>806.0</td>\n",
       "      <td>798.0</td>\n",
       "      <td>218739</td>\n",
       "      <td>55690</td>\n",
       "    </tr>\n",
       "    <tr>\n",
       "      <th>760</th>\n",
       "      <td>Wyoming</td>\n",
       "      <td>WY</td>\n",
       "      <td>2016</td>\n",
       "      <td>840.4</td>\n",
       "      <td>857.0</td>\n",
       "      <td>224299</td>\n",
       "      <td>60925</td>\n",
       "    </tr>\n",
       "  </tbody>\n",
       "</table>\n",
       "<p>500 rows × 7 columns</p>\n",
       "</div>"
      ],
      "text/plain": [
       "       State Code  year  avg_rent  Total_Homeless  avg_sale_price  \\\n",
       "1    Alabama   AL  2007     541.6          5452.0          132882   \n",
       "2    Alabama   AL  2008     580.4          5387.0          131912   \n",
       "3    Alabama   AL  2009     617.0          6080.0          126490   \n",
       "4    Alabama   AL  2010     643.8          6046.0          121892   \n",
       "5    Alabama   AL  2011     647.2          5558.0          115957   \n",
       "..       ...  ...   ...       ...             ...             ...   \n",
       "756  Wyoming   WY  2012     695.8          1813.0          197052   \n",
       "757  Wyoming   WY  2013     818.8           953.0          203823   \n",
       "758  Wyoming   WY  2014     797.4           757.0          210869   \n",
       "759  Wyoming   WY  2015     806.0           798.0          218739   \n",
       "760  Wyoming   WY  2016     840.4           857.0          224299   \n",
       "\n",
       "    average_incomes  \n",
       "1             42212  \n",
       "2             44476  \n",
       "3             39980  \n",
       "4             40933  \n",
       "5             42590  \n",
       "..              ...  \n",
       "756           57512  \n",
       "757           55700  \n",
       "758           67441  \n",
       "759           55690  \n",
       "760           60925  \n",
       "\n",
       "[500 rows x 7 columns]"
      ]
     },
     "execution_count": 85,
     "metadata": {},
     "output_type": "execute_result"
    }
   ],
   "source": [
    "All_Data = test.drop(['Abbrev'], axis=1)\n",
    "All_Data"
   ]
  },
  {
   "cell_type": "code",
   "execution_count": 86,
   "metadata": {},
   "outputs": [
    {
     "data": {
      "text/html": [
       "<div>\n",
       "<style scoped>\n",
       "    .dataframe tbody tr th:only-of-type {\n",
       "        vertical-align: middle;\n",
       "    }\n",
       "\n",
       "    .dataframe tbody tr th {\n",
       "        vertical-align: top;\n",
       "    }\n",
       "\n",
       "    .dataframe thead th {\n",
       "        text-align: right;\n",
       "    }\n",
       "</style>\n",
       "<table border=\"1\" class=\"dataframe\">\n",
       "  <thead>\n",
       "    <tr style=\"text-align: right;\">\n",
       "      <th></th>\n",
       "      <th>State</th>\n",
       "      <th>Code</th>\n",
       "      <th>year</th>\n",
       "      <th>avg_rent</th>\n",
       "      <th>Total_Homeless</th>\n",
       "      <th>avg_sale_price</th>\n",
       "      <th>average_incomes</th>\n",
       "    </tr>\n",
       "  </thead>\n",
       "  <tbody>\n",
       "    <tr>\n",
       "      <th>1</th>\n",
       "      <td>Alabama</td>\n",
       "      <td>AL</td>\n",
       "      <td>2007</td>\n",
       "      <td>541.6</td>\n",
       "      <td>5452.0</td>\n",
       "      <td>132882</td>\n",
       "      <td>42212</td>\n",
       "    </tr>\n",
       "    <tr>\n",
       "      <th>2</th>\n",
       "      <td>Alabama</td>\n",
       "      <td>AL</td>\n",
       "      <td>2008</td>\n",
       "      <td>580.4</td>\n",
       "      <td>5387.0</td>\n",
       "      <td>131912</td>\n",
       "      <td>44476</td>\n",
       "    </tr>\n",
       "    <tr>\n",
       "      <th>3</th>\n",
       "      <td>Alabama</td>\n",
       "      <td>AL</td>\n",
       "      <td>2009</td>\n",
       "      <td>617.0</td>\n",
       "      <td>6080.0</td>\n",
       "      <td>126490</td>\n",
       "      <td>39980</td>\n",
       "    </tr>\n",
       "    <tr>\n",
       "      <th>4</th>\n",
       "      <td>Alabama</td>\n",
       "      <td>AL</td>\n",
       "      <td>2010</td>\n",
       "      <td>643.8</td>\n",
       "      <td>6046.0</td>\n",
       "      <td>121892</td>\n",
       "      <td>40933</td>\n",
       "    </tr>\n",
       "    <tr>\n",
       "      <th>5</th>\n",
       "      <td>Alabama</td>\n",
       "      <td>AL</td>\n",
       "      <td>2011</td>\n",
       "      <td>647.2</td>\n",
       "      <td>5558.0</td>\n",
       "      <td>115957</td>\n",
       "      <td>42590</td>\n",
       "    </tr>\n",
       "    <tr>\n",
       "      <th>...</th>\n",
       "      <td>...</td>\n",
       "      <td>...</td>\n",
       "      <td>...</td>\n",
       "      <td>...</td>\n",
       "      <td>...</td>\n",
       "      <td>...</td>\n",
       "      <td>...</td>\n",
       "    </tr>\n",
       "    <tr>\n",
       "      <th>756</th>\n",
       "      <td>Wyoming</td>\n",
       "      <td>WY</td>\n",
       "      <td>2012</td>\n",
       "      <td>695.8</td>\n",
       "      <td>1813.0</td>\n",
       "      <td>197052</td>\n",
       "      <td>57512</td>\n",
       "    </tr>\n",
       "    <tr>\n",
       "      <th>757</th>\n",
       "      <td>Wyoming</td>\n",
       "      <td>WY</td>\n",
       "      <td>2013</td>\n",
       "      <td>818.8</td>\n",
       "      <td>953.0</td>\n",
       "      <td>203823</td>\n",
       "      <td>55700</td>\n",
       "    </tr>\n",
       "    <tr>\n",
       "      <th>758</th>\n",
       "      <td>Wyoming</td>\n",
       "      <td>WY</td>\n",
       "      <td>2014</td>\n",
       "      <td>797.4</td>\n",
       "      <td>757.0</td>\n",
       "      <td>210869</td>\n",
       "      <td>67441</td>\n",
       "    </tr>\n",
       "    <tr>\n",
       "      <th>759</th>\n",
       "      <td>Wyoming</td>\n",
       "      <td>WY</td>\n",
       "      <td>2015</td>\n",
       "      <td>806.0</td>\n",
       "      <td>798.0</td>\n",
       "      <td>218739</td>\n",
       "      <td>55690</td>\n",
       "    </tr>\n",
       "    <tr>\n",
       "      <th>760</th>\n",
       "      <td>Wyoming</td>\n",
       "      <td>WY</td>\n",
       "      <td>2016</td>\n",
       "      <td>840.4</td>\n",
       "      <td>857.0</td>\n",
       "      <td>224299</td>\n",
       "      <td>60925</td>\n",
       "    </tr>\n",
       "  </tbody>\n",
       "</table>\n",
       "<p>500 rows × 7 columns</p>\n",
       "</div>"
      ],
      "text/plain": [
       "       State Code  year  avg_rent  Total_Homeless  avg_sale_price  \\\n",
       "1    Alabama   AL  2007     541.6          5452.0          132882   \n",
       "2    Alabama   AL  2008     580.4          5387.0          131912   \n",
       "3    Alabama   AL  2009     617.0          6080.0          126490   \n",
       "4    Alabama   AL  2010     643.8          6046.0          121892   \n",
       "5    Alabama   AL  2011     647.2          5558.0          115957   \n",
       "..       ...  ...   ...       ...             ...             ...   \n",
       "756  Wyoming   WY  2012     695.8          1813.0          197052   \n",
       "757  Wyoming   WY  2013     818.8           953.0          203823   \n",
       "758  Wyoming   WY  2014     797.4           757.0          210869   \n",
       "759  Wyoming   WY  2015     806.0           798.0          218739   \n",
       "760  Wyoming   WY  2016     840.4           857.0          224299   \n",
       "\n",
       "    average_incomes  \n",
       "1             42212  \n",
       "2             44476  \n",
       "3             39980  \n",
       "4             40933  \n",
       "5             42590  \n",
       "..              ...  \n",
       "756           57512  \n",
       "757           55700  \n",
       "758           67441  \n",
       "759           55690  \n",
       "760           60925  \n",
       "\n",
       "[500 rows x 7 columns]"
      ]
     },
     "execution_count": 86,
     "metadata": {},
     "output_type": "execute_result"
    }
   ],
   "source": [
    "All_Data"
   ]
  },
  {
   "cell_type": "code",
   "execution_count": null,
   "metadata": {},
   "outputs": [],
   "source": []
  }
 ],
 "metadata": {
  "kernelspec": {
<<<<<<< HEAD
   "display_name": "Python 3",
   "language": "python",
   "name": "python3"
=======
   "display_name": "Python [conda env:pythondata] *",
   "language": "python",
   "name": "conda-env-pythondata-py"
>>>>>>> 038f031fb29eb8030b42a06897861a687b0dcf9e
  },
  "language_info": {
   "codemirror_mode": {
    "name": "ipython",
    "version": 3
   },
   "file_extension": ".py",
   "mimetype": "text/x-python",
   "name": "python",
   "nbconvert_exporter": "python",
   "pygments_lexer": "ipython3",
   "version": "3.7.6"
  }
 },
 "nbformat": 4,
 "nbformat_minor": 4
}